{
 "cells": [
  {
   "metadata": {},
   "cell_type": "markdown",
   "source": [
    "# Custom HTML/XML Parser\n",
    "This notebook implements a simple HTML/XML parser that can handle basic tags, attributes, and nested elements."
   ],
   "id": "4ab5c77bbcf353a4"
  },
  {
   "metadata": {
    "ExecuteTime": {
     "end_time": "2025-05-20T10:21:17.077505Z",
     "start_time": "2025-05-20T10:21:17.072454Z"
    }
   },
   "cell_type": "code",
   "source": [
    "class Node:\n",
    "    def __init__(self, tag=None, value=None, attributes=None, parent=None):\n",
    "        self.tag = tag\n",
    "        self.value = value\n",
    "        self.attributes = attributes or {}\n",
    "        self.children = []\n",
    "        self.parent = parent\n",
    "\n",
    "    def add_child(self, child):\n",
    "        self.children.append(child)\n",
    "        child.parent = self\n",
    "\n",
    "    def __str__(self, level=0):\n",
    "        indent = \"  \" * level\n",
    "        result = indent\n",
    "        if self.tag:\n",
    "            result += f\"<{self.tag}\"\n",
    "            if self.attributes:\n",
    "                attrs = \" \".join(f'{k}=\"{v}\"' for k, v in self.attributes.items())\n",
    "                result += \" \" + attrs\n",
    "            result += \">\"\n",
    "        if self.value:\n",
    "            result += self.value\n",
    "        result += \"\\n\"\n",
    "        for child in self.children:\n",
    "            result += child.__str__(level + 1)\n",
    "        if self.tag:\n",
    "            result += indent + f\"</{self.tag}>\\n\"\n",
    "        return result"
   ],
   "id": "751203179f6b479",
   "outputs": [],
   "execution_count": 2
  },
  {
   "metadata": {
    "ExecuteTime": {
     "end_time": "2025-05-20T10:23:05.241896Z",
     "start_time": "2025-05-20T10:23:05.238096Z"
    }
   },
   "cell_type": "code",
   "source": [
    "class Parser:\n",
    "    def __init__(self):\n",
    "        self.root = Node()\n",
    "        self.current = self.root\n",
    "\n",
    "    def parse(self, text):\n",
    "        i = 0\n",
    "        while i < len(text):\n",
    "            if text[i] == '<':\n",
    "                if text[i + 1] == '/':\n",
    "                    # Closing tag\n",
    "                    end = text.find('>', i)\n",
    "                    if end != -1:\n",
    "                        self.current = self.current.parent\n",
    "                        i = end + 1\n",
    "                else:\n",
    "                    # Opening tag\n",
    "                    end = text.find('>', i)\n",
    "                    if end != -1:\n",
    "                        tag_content = text[i+1:end]\n",
    "                        tag_parts = tag_content.split()\n",
    "                        tag_name = tag_parts[0]\n",
    "\n",
    "                        # Parse attributes\n",
    "                        attributes = {}\n",
    "                        for part in tag_parts[1:]:\n",
    "                            if '=' in part:\n",
    "                                key, value = part.split('=', 1)\n",
    "                                value = value.strip('\"\\'')\n",
    "                                attributes[key] = value\n",
    "\n",
    "                        new_node = Node(tag=tag_name, attributes=attributes)\n",
    "                        self.current.add_child(new_node)\n",
    "                        self.current = new_node\n",
    "                        i = end + 1\n",
    "            else:\n",
    "                # Text content\n",
    "                next_tag = text.find('<', i)\n",
    "                if next_tag == -1:\n",
    "                    next_tag = len(text)\n",
    "                content = text[i:next_tag].strip()\n",
    "                if content:\n",
    "                    text_node = Node(value=content)\n",
    "                    self.current.add_child(text_node)\n",
    "                i = next_tag\n",
    "\n",
    "        return self.root"
   ],
   "id": "da07bdeeec0be35d",
   "outputs": [],
   "execution_count": 7
  },
  {
   "metadata": {
    "ExecuteTime": {
     "end_time": "2025-05-20T10:23:07.180192Z",
     "start_time": "2025-05-20T10:23:07.177128Z"
    }
   },
   "cell_type": "code",
   "source": [
    "# Test the parser\n",
    "test_html = \"\"\"\n",
    "<html>\n",
    "    <head>\n",
    "        <title>Test Page</title>\n",
    "    </head>\n",
    "    <body class=\"main\" id=\"content\">\n",
    "        <h1>Hello World</h1>\n",
    "        <p>This is a <b>test</b> paragraph.</p>\n",
    "    </body>\n",
    "</html>\n",
    "\"\"\"\n",
    "\n",
    "parser = Parser()\n",
    "result = parser.parse(test_html)\n",
    "print(result)"
   ],
   "id": "d73f32c00e1b8ecc",
   "outputs": [
    {
     "name": "stdout",
     "output_type": "stream",
     "text": [
      "\n",
      "  <html>\n",
      "    <head>\n",
      "      <title>\n",
      "        Test Page\n",
      "      </title>\n",
      "    </head>\n",
      "    <body class=\"main\" id=\"content\">\n",
      "      <h1>\n",
      "        Hello World\n",
      "      </h1>\n",
      "      <p>\n",
      "        This is a\n",
      "        <b>\n",
      "          test\n",
      "        </b>\n",
      "        paragraph.\n",
      "      </p>\n",
      "    </body>\n",
      "  </html>\n",
      "\n"
     ]
    }
   ],
   "execution_count": 8
  },
  {
   "metadata": {},
   "cell_type": "markdown",
   "source": [
    "The parser above implements:\n",
    "1. A `Node` class to represent HTML/XML elements with tags, attributes, values, and child nodes\n",
    "2. A `Parser` class that processes HTML/XML text and builds a tree structure\n",
    "3. Support for:\n",
    "   - Opening and closing tags\n",
    "   - Text content\n",
    "   - Tag attributes\n",
    "   - Nested elements\n",
    "\n",
    "Limitations:\n",
    "- Doesn't handle self-closing tags\n",
    "- No support for comments\n",
    "- No validation of tag matching\n",
    "- Basic attribute parsing\n",
    "\n",
    "You can extend this parser by adding support for these features as needed."
   ],
   "id": "1bc4d02bb21ff810"
  }
 ],
 "metadata": {
  "kernelspec": {
   "display_name": "Python 3",
   "language": "python",
   "name": "python3"
  },
  "language_info": {
   "codemirror_mode": {
    "name": "ipython",
    "version": 2
   },
   "file_extension": ".py",
   "mimetype": "text/x-python",
   "name": "python",
   "nbconvert_exporter": "python",
   "pygments_lexer": "ipython2",
   "version": "2.7.6"
  }
 },
 "nbformat": 4,
 "nbformat_minor": 5
}
